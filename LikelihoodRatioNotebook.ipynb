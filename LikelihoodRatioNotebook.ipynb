{
 "cells": [
  {
   "cell_type": "markdown",
   "metadata": {},
   "source": [
    "# Likelihood Ratio Matching"
   ]
  },
  {
   "cell_type": "markdown",
   "metadata": {},
   "source": [
    "In this Jupyter notebook we show how the Likelihood Ratio technique of cross-matching optical (or NIR) and radio sources is determined.\n",
    "\n",
    "The likelihood ratio is defined as the ratio of the probability that a radio source and an optical counterpart are related, to the probability they are not given by:\n",
    "\n",
    "\\begin{equation}     \n",
    "LR = \\frac{q(m)f(r)}{n(m)}\n",
    "\\end{equation}\n",
    "\n",
    "Where $q(m)$ is the expected magnitude distribution of the optical counterparts,  $f(r)$ is the radial probability distribution function of the offsets between the radio and optical poistions and $n(m)$ is the full magnitude distribution of all the optical objects detected.\n",
    "\n",
    "Here we follow the papers of Smith et al. 2011 and McAlpine et al. 2012 to work out the Likelihood Ratio. In this example we wish to cross-match a sample of radio sources from the Sydney University Molonglo Sky Survey (SUMSS, Mauch et al. 2003) with $K_{s}$-band detected objects in the Near-Infrared VISTA Hemisphere Survey (VHS, McMahon et al. 2013).  \n",
    "\n",
    "You will first have to download the radio and near-infrared datasets that are available here: \n",
    "www.linktofollow.com\n",
    "\n",
    "The first thing to do is import the numpy, astropy, scipy and matplotlib libaries that we will need:\n"
   ]
  },
  {
   "cell_type": "code",
   "execution_count": 1,
   "metadata": {
    "collapsed": true
   },
   "outputs": [],
   "source": [
    "import numpy\n",
    "import math\n",
    "from astropy.io import fits\n",
    "from astropy.coordinates import SkyCoord\n",
    "from astropy import units as u\n",
    "from astropy.coordinates import search_around_sky\n",
    "import scipy.signal.signaltools\n",
    "import scipy.stats\n",
    "from matplotlib import rc\n",
    "rc('font', **{'family':'serif','serif':['Palatino']})\n",
    "rc('text', usetex=True)\n",
    "\n",
    "import matplotlib.pyplot as plt\n",
    "%matplotlib inline"
   ]
  },
  {
   "cell_type": "markdown",
   "metadata": {},
   "source": [
    "We first set the maximum matching radius in arcseconds, the limit of the NIR survey in magnitudes and the full-width-half-maximum of the beam of SUMMS"
   ]
  },
  {
   "cell_type": "code",
   "execution_count": 2,
   "metadata": {
    "collapsed": true
   },
   "outputs": [],
   "source": [
    "rmax=30.0 #take (FWHM/5)*0.655*5 arcsec\n",
    "magmax=19.0\n",
    "fwhm=45.0 # fwhm of beam"
   ]
  },
  {
   "cell_type": "markdown",
   "metadata": {},
   "source": [
    "Then we open the fits file containing the optical catalogue and remove stars. For the VHS catalogue, mergedclass $= 1$ indicates the objects are galaxies.\n",
    "We also select our objects have magnitudes $K_{s} > 10$. "
   ]
  },
  {
   "cell_type": "code",
   "execution_count": 3,
   "metadata": {
    "collapsed": false
   },
   "outputs": [],
   "source": [
    "#read in VHS catalogue\n",
    "hdulist=fits.open('vhs60_90_positions.fits')\n",
    "cat=hdulist[1].data\n",
    "mags=cat.field('KSPETROMAG')#-cat.field('EXTINCTION_R')\n",
    "##ids=cat.field('CATAID')\n",
    "ids=numpy.arange(1,len(mags)+1,1)\n",
    "ra=cat.field('RA')\n",
    "dec=cat.field('DEC')\n",
    "Merg=cat.field('MERGEDCLASS')\n",
    "\n",
    "keep=numpy.where((Merg==1)&(mags<magmax)&(mags>10.)) #&(ra > 160)&(ra <200)&)\n",
    "\n",
    "ids=ids[keep]\n",
    "mags=mags[keep]\n",
    "ra =cat.field('RA')[keep] \n",
    "dec =cat.field('DEC')[keep]"
   ]
  },
  {
   "cell_type": "markdown",
   "metadata": {},
   "source": [
    "Time to calculate $n(m)$, the full magnitude distribution of the optical sample. We want to produce a histogram. Firstly we define some magnitude bins:"
   ]
  },
  {
   "cell_type": "code",
   "execution_count": 25,
   "metadata": {
    "collapsed": false
   },
   "outputs": [
    {
     "data": {
      "image/png": "[encoded data removed]",
      "text/plain": [
       "<matplotlib.figure.Figure at 0x1502f7c50>"
      ]
     },
     "metadata": {},
     "output_type": "display_data"
    }
   ],
   "source": [
    "bins=numpy.linspace(10.,magmax,39) #change to match magnitude limits of sample \n",
    "plotbins=numpy.linspace(10.,magmax-0.1,38) # change to match magnitude limits of sample \n",
    "\n",
    "nm=plt.hist(mags,bins=bins,log=True)\n",
    "cumnm=plt.hist(mags,bins=bins,cumulative=True)\n",
    "plt.xlabel('K mag')\n",
    "plt.ylabel('Number');"
   ]
  },
  {
   "cell_type": "markdown",
   "metadata": {},
   "source": [
    "Now want to determine how many optical sources per sq arcsec, the survey area in this case is $273$ arsec. "
   ]
  },
  {
   "cell_type": "code",
   "execution_count": 5,
   "metadata": {
    "collapsed": false
   },
   "outputs": [
    {
     "name": "stdout",
     "output_type": "stream",
     "text": [
      "Number of sources: 2250082.0000\n",
      "Area in deg sq: 273.00\n",
      "Area in arsec sq: 3538080000.00\n",
      "Number of optical sources per square arcsec: \t0.00064\n",
      "Number of optical sources per 30.00\" search radius:\t1.798\n"
     ]
    }
   ],
   "source": [
    "totalsources=cumnm[0][-1]\n",
    "print ('Number of sources: '+'%.4f'% totalsources)\n",
    "rarange=ra.max()-ra.min()\n",
    "decrange=dec.max()-dec.min()\n",
    "\n",
    "area =273.0 \n",
    "print ('Area in deg sq: '+'%.2f' %area)\n",
    "asecarea=area*3600.0*3600.0\n",
    "\n",
    "print ('Area in arsec sq: '+'%.2f' %asecarea)\n",
    "sdensity=totalsources/asecarea\n",
    "sdensitycirc=sdensity*math.pi*rmax*rmax\n",
    "\n",
    "print ('Number of optical sources per square arcsec: \\t'+'%.5f'%sdensity)\n",
    "print ('Number of optical sources per '+'%.2f'%rmax+'\\\" search radius:'+'\\t' +'%.3f'%sdensitycirc)"
   ]
  },
  {
   "cell_type": "markdown",
   "metadata": {},
   "source": [
    "Now lets read in the radio source catalogue. We want to restrict our radio sources to those with a signal-to-noise ratio of $SNR \\ge 5.0$ and in this case a peak flux of $s_{p} \\ge 12$ mJy. We need to calculate the number of radio sources match this criteria"
   ]
  },
  {
   "cell_type": "code",
   "execution_count": 6,
   "metadata": {
    "collapsed": false,
    "scrolled": false
   },
   "outputs": [
    {
     "name": "stdout",
     "output_type": "stream",
     "text": [
      "Total Number of Radio sources: 7913\n",
      "Radio sources match selection criteria: 5377\n"
     ]
    }
   ],
   "source": [
    "#read in radio source catalogue\n",
    "radiofits=fits.open('sumss-45_-60.fits')\n",
    "radio=radiofits[1].data\n",
    "\n",
    "snr=radio.field('PEAKFLUX')/radio.field('PEAKFLUX_ERR')\n",
    "snrkeep=numpy.where((snr>=5.0)&(radio.field('PEAKFLUX')>=12))\n",
    "\n",
    "print ('Total Number of Radio sources: ' +numpy.str_(len(snr)))\n",
    "print ('Radio sources match selection criteria: ' + numpy.str_(len(snrkeep[0])))"
   ]
  },
  {
   "cell_type": "markdown",
   "metadata": {},
   "source": [
    "A histogram of the SNR ratio can be seen below: "
   ]
  },
  {
   "cell_type": "code",
   "execution_count": 27,
   "metadata": {
    "collapsed": false
   },
   "outputs": [
    {
     "data": {
      "image/png": "[encoded data removed]",
      "text/plain": [
       "<matplotlib.figure.Figure at 0x13666f8d0>"
      ]
     },
     "metadata": {},
     "output_type": "display_data"
    }
   ],
   "source": [
    "plt.figure(10)\n",
    "plt.hist(snr[snrkeep], bins=100,range=(0,40),normed=True)\n",
    "plt.xlabel('SNR')\n",
    "plt.ylabel('Number');\n",
    "#plt.savefig('Fig1.pdf')"
   ]
  },
  {
   "cell_type": "markdown",
   "metadata": {},
   "source": [
    "Now lets calculate $q(m)$, the expected distribution of the true infrared counterparts as a function of $K_{s}$-band magnitude.  \n",
    "\n",
    "$q(m)$ is determined here using the method of Ciliegi et al 2003. Firstly the magnitude distribution (${\\rm total(m)}$) of all possible counterparts are within a fixes search radio $r_{max}$ is calculated. \n",
    "The background source count is subtracted from ${\\rm total(m)}$ to obtain the magnitude distribution of excess sources detected around the radio positions known as ${\\rm real(m)}$. This is given by:\n",
    "\n",
    "\\begin{equation}\n",
    "{\\rm real(m)} = {\\rm total(m)} - (n(m)\\,N_{radio} \\times \\pi\\,r_{max}^{2})\n",
    "\\end{equation}  \n",
    "\n",
    "$q_{m}$ is determined by normalising ${\\rm real(m)}$ and scaling it by a factor $Q_{0}$. $Q_{0}$ is an estimate of the fraction of radio sources with infrared counterparts above the magnitude limit:\n",
    "\n",
    "\\begin{equation}\n",
    "q(m) = \\frac{\\rm real(m)}{\\Sigma \\, \\rm real(m)} \\times Q_{0}\n",
    "\\end{equation} \n",
    "\n",
    "This $Q_{0}$ term is estimated by calculating the fraction of sources with radio sources above the background: \n",
    "\n",
    "\\begin{equation}\n",
    "Q_{0} = \\frac{N_{matches} - (\\Sigma \\, n(m) \\times \\pi r^{2}_{max} \\times N_{radio})}{N_{radio}}\n",
    "\\end{equation}.\n",
    "\n",
    "Here $N_{matches}$ is the number of possible counterparts within $r_{max}$ of the radio positions. At large $r_{max}$ the expression leads to an overestimate of $Q_{0}$, because the radio-loud AGN tend to reside in dense enviroments, which results in an excess sources in the search radii, above the predicted background counts. One way to overcome this is by using the method of Fleuren et al. 2012 to estimate $Q_{0}$. This method will be covered in another notebook. In this example we use $Q_{0} = 0.395$.\n",
    "\n",
    "\n",
    "Here we first find out how many optical counterparts are surrounding the radio sources, as we want to determine ${\\rm total(m)}$:"
   ]
  },
  {
   "cell_type": "code",
   "execution_count": 8,
   "metadata": {
    "collapsed": false
   },
   "outputs": [
    {
     "name": "stdout",
     "output_type": "stream",
     "text": [
      "16095 counterparts within the search radius\n"
     ]
    }
   ],
   "source": [
    "radioid=numpy.arange(1,len(radio.field('PEAKFLUX'))+1,1)[snrkeep]\n",
    "radiora=radio.field('RA')[snrkeep]\n",
    "radiodec=radio.field('DEC')[snrkeep]\n",
    "radioflux=radio.field('PEAKFLUX')[snrkeep]\n",
    "radiofluxerr=radio.field('PEAKFLUX_ERR')[snrkeep]\n",
    "\n",
    "radioc=SkyCoord(radiora,radiodec,unit='deg')\n",
    "vhs=SkyCoord(ra,dec,unit='deg')\n",
    "\n",
    "idxrad,idxmatch,d2d,d3d = search_around_sky(radioc,vhs,rmax*u.arcsec)\n",
    "\n",
    "matchid=ids[idxmatch]\n",
    "matchra=ra[idxmatch]\n",
    "matchdec=dec[idxmatch]\n",
    "matchmag=mags[idxmatch]\n",
    "mradioid=radioid[idxrad]\n",
    "mradiora=radiora[idxrad]\n",
    "mradiodec=radiodec[idxrad]\n",
    "mradioflux=radioflux[idxrad]\n",
    "mradiofluxerr=radiofluxerr[idxrad]\n",
    "\n",
    "nmatchra=numpy.array([])\n",
    "nmatchdec=numpy.array([])\n",
    "\n",
    "#### Why set no match to zero ---- MATT?\n",
    "nomatch=0\n",
    "\n",
    "print (numpy.str_(len(matchid)) + ' counterparts within the search radius')\n",
    "nmatch=len(matchid)\n",
    "ncentre=len(radioid)\n",
    "numpy.savetxt('radioid',mradioid, fmt = '%.5i')"
   ]
  },
  {
   "cell_type": "markdown",
   "metadata": {},
   "source": [
    " Now we can determine $n(m) \\,N_{radio}\\, \\pi r_{max}^{2}$ and ${\\rm real(m)}$:"
   ]
  },
  {
   "cell_type": "code",
   "execution_count": 9,
   "metadata": {
    "collapsed": false
   },
   "outputs": [
    {
     "name": "stdout",
     "output_type": "stream",
     "text": [
      "('total', array([    0.,     3.,     2.,     5.,     3.,     5.,     4.,    10.,\n",
      "          12.,    16.,    10.,    18.,    25.,    31.,    42.,    60.,\n",
      "          66.,    80.,   107.,   167.,   171.,   233.,   275.,   368.,\n",
      "         422.,   538.,   622.,   819.,   954.,  1137.,  1300.,  1545.,\n",
      "        1667.,  1673.,  1471.,  1180.,   683.,   371.]))\n",
      "('nmp', array([  2.14849711e-01,   3.26571561e-01,   3.86729480e-01,\n",
      "         5.62906244e-01,   7.17598036e-01,   1.15589145e+00,\n",
      "         1.30628624e+00,   1.79614359e+00,   2.27740694e+00,\n",
      "         2.64265145e+00,   3.63096012e+00,   4.26261827e+00,\n",
      "         5.92125804e+00,   7.72169862e+00,   1.00635605e+01,\n",
      "         1.35613138e+01,   1.84813722e+01,   2.54210178e+01,\n",
      "         3.47712773e+01,   4.66911393e+01,   6.44592104e+01,\n",
      "         8.59613695e+01,   1.16207912e+02,   1.53669107e+02,\n",
      "         2.01769661e+02,   2.63861227e+02,   3.38770728e+02,\n",
      "         4.31856514e+02,   5.45357319e+02,   6.73094066e+02,\n",
      "         8.15440594e+02,   9.56046839e+02,   1.06391429e+03,\n",
      "         1.11268517e+03,   1.05059790e+03,   8.35516151e+02,\n",
      "         5.24005555e+02,   2.53462501e+02]))\n",
      "('real', array([ -2.14849711e-01,   2.67342844e+00,   1.61327052e+00,\n",
      "         4.43709376e+00,   2.28240196e+00,   3.84410855e+00,\n",
      "         2.69371376e+00,   8.20385641e+00,   9.72259306e+00,\n",
      "         1.33573486e+01,   6.36903988e+00,   1.37373817e+01,\n",
      "         1.90787420e+01,   2.32783014e+01,   3.19364395e+01,\n",
      "         4.64386862e+01,   4.75186278e+01,   5.45789822e+01,\n",
      "         7.22287227e+01,   1.20308861e+02,   1.06540790e+02,\n",
      "         1.47038631e+02,   1.58792088e+02,   2.14330893e+02,\n",
      "         2.20230339e+02,   2.74138773e+02,   2.83229272e+02,\n",
      "         3.87143486e+02,   4.08642681e+02,   4.63905934e+02,\n",
      "         4.84559406e+02,   5.88953161e+02,   6.03085715e+02,\n",
      "         5.60314830e+02,   4.20402100e+02,   3.44483849e+02,\n",
      "         1.58994445e+02,   1.17537499e+02]))\n",
      "('real total', 6426.4106396326888)\n",
      "[ -3.34323036e-05   4.16006475e-04   2.51037571e-04   6.90446659e-04\n",
      "   3.55159683e-04   5.98173501e-04   4.19163030e-04   1.27658453e-03\n",
      "   1.51291189e-03   2.07850841e-03   9.91072659e-04   2.13764456e-03\n",
      "   2.96880219e-03   3.62228664e-03   4.96956098e-03   7.22622453e-03\n",
      "   7.39427194e-03   8.49291855e-03   1.12393569e-02   1.87210042e-02\n",
      "   1.65785842e-02   2.28803665e-02   2.47092968e-02   3.33515713e-02\n",
      "   3.42695715e-02   4.26581474e-02   4.40727006e-02   6.02425690e-02\n",
      "   6.35880126e-02   7.21874091e-02   7.54012517e-02   9.16457403e-02\n",
      "   9.38448768e-02   8.71893911e-02   6.54178706e-02   5.36043941e-02\n",
      "   2.47407852e-02   1.82897585e-02]\n"
     ]
    },
    {
     "data": {
      "image/png": "[encoded data removed]",
      "text/plain": [
       "<matplotlib.figure.Figure at 0x13c031c90>"
      ]
     },
     "metadata": {},
     "output_type": "display_data"
    }
   ],
   "source": [
    "total= plt.hist(matchmag,bins=bins,log=True,cumulative=False)\n",
    "print ('total', total[0])\n",
    "nmp=(nm[0]/asecarea)*math.pi*numpy.power(rmax,2)*ncentre\n",
    "print ('nmp', nmp)\n",
    "\n",
    "real=total[0]-nmp\n",
    "print ('real', real)\n",
    "\n",
    "numpy.savetxt('realdist',real)\n",
    "realtotal=numpy.cumsum(real)[-1]\n",
    "print ('real total', realtotal)\n",
    "\n",
    "qm=real/realtotal\n",
    "print (qm)"
   ]
  },
  {
   "cell_type": "markdown",
   "metadata": {},
   "source": [
    "We now calculate $q(m)$:"
   ]
  },
  {
   "cell_type": "code",
   "execution_count": 10,
   "metadata": {
    "collapsed": false
   },
   "outputs": [
    {
     "name": "stdout",
     "output_type": "stream",
     "text": [
      "16095\n",
      "5377\n",
      "0.00063596131235\n",
      "Q0 = 0.395\n",
      "[  1.41319586e-08   2.14805770e-08   2.54375254e-08   3.70257315e-08\n",
      "   4.72007416e-08   7.60299371e-08   8.59223081e-08   1.18143174e-07\n",
      "   1.49798761e-07   1.73823090e-07   2.38830100e-07   2.80378058e-07\n",
      "   3.89476778e-07   5.07902591e-07   6.61940940e-07   8.92009225e-07\n",
      "   1.21563108e-06   1.67209334e-06   2.28711618e-06   3.07115724e-06\n",
      "   4.23987021e-06   5.65419663e-06   7.64369375e-06   1.01077421e-05\n",
      "   1.32716049e-05   1.73557410e-05   2.22829896e-05   2.84058020e-05\n",
      "   3.58714331e-05   4.42734477e-05   5.36364356e-05   6.28849546e-05\n",
      "   6.99800457e-05   7.31880003e-05   6.91041469e-05   5.49569258e-05\n",
      "   3.44669991e-05   1.66717542e-05]\n",
      "('qm_nm', array([ -934.46069999,  7649.82046144,  3898.17165756,  7365.86205152,\n",
      "        2972.15827168,  3107.70391134,  1926.96635382,  4268.1339433 ,\n",
      "        3989.35340015,  4723.2552308 ,  1639.13049633,  3011.53951131,\n",
      "        3010.9031623 ,  2817.08194819,  2965.48599333,  3199.92059449,\n",
      "        2402.65115816,  2006.28921332,  1941.11082764,  2407.82092774,\n",
      "        1544.51443442,  1598.41359488,  1276.89211115,  1303.34456372,\n",
      "        1019.95808504,   970.8584769 ,   781.25588301,   837.70966017,\n",
      "         700.20244027,   644.0435075 ,   555.28474405,   575.65545995,\n",
      "         529.70423186,   470.56634064,   373.92920785,   385.27875026,\n",
      "         283.53527784,   433.33500084]))\n",
      "[  500.           500.           500.           500.           500.           500.\n",
      "   500.           500.           500.           500.           500.           500.\n",
      "   500.           500.           500.           500.           500.           500.\n",
      "   500.           500.           500.          1598.41359488  1276.89211115\n",
      "  1303.34456372  1019.95808504   970.8584769    781.25588301   837.70966017\n",
      "   700.20244027   644.0435075    555.28474405   575.65545995   529.70423186\n",
      "   470.56634064   373.92920785   385.27875026   283.53527784   433.33500084]\n"
     ]
    }
   ],
   "source": [
    "#q0=(nmatch-sdensity*pi*numpy.power(rmax,2)*ncentre)/ncentre\n",
    "#from fleuren\n",
    "q0 = 0.395\n",
    "\n",
    "print (nmatch)\n",
    "print (ncentre)\n",
    "print (sdensity)\n",
    "\n",
    "print ('Q0 = '+numpy.str_(q0))\n",
    "qm1=qm*q0\n",
    "\n",
    "nm1=(nm[0]/asecarea)\n",
    "print (nm1)\n",
    "#calculate qm/nm\n",
    "qm_nm=numpy.divide(qm1,nm1)\n",
    "print ('qm_nm', qm_nm)\n",
    "\n",
    "# Why is qm_nm set to 500 here? - MATT\n",
    "\n",
    "for i in range(0,21):\n",
    "  qm_nm[i]=500#qm_nm[18] \n",
    "  \n",
    "print (qm_nm)"
   ]
  },
  {
   "cell_type": "markdown",
   "metadata": {},
   "source": [
    "Now back to $f(r)$. $f(r)$ is the radial probability distribution function of the positional errors as a function of the counterparts separation, $r$, from the radio sources given by:\n",
    "\n",
    "\\begin{equation}\n",
    "f(r) = \\frac{1}{2\\pi\\sigma_{pos}^{2}}\\exp\\Big(\\frac{-r^{2}}{2\\sigma_{pos}^{2}}\\Big)\n",
    "\\end{equation}\n",
    "\n",
    "Where $r$ is the separation between the radio and NIR positions and $\\sigma_{pos}$ is the positional error. \n",
    "Here we use the equation of Ivison et al. 2007 to estimate the positional error for each radio source, which is given by:\n",
    "\n",
    "\\begin{equation}\n",
    "\\sigma_{fit} = 0.6 \\times \\frac{FWHM}{SNR}\n",
    "\\end{equation}\n",
    "\n",
    "We add this in quadrature with an error of 1 arcsec. \n",
    "\n",
    "\\begin{equation}\n",
    "\\sigma_{pos}^2 = 1 + \\sigma_{fit}   \n",
    "\\end{equation}\n",
    "\n",
    "In this code. We first need to create a function for a Gaussian:  "
   ]
  },
  {
   "cell_type": "code",
   "execution_count": 11,
   "metadata": {
    "collapsed": false
   },
   "outputs": [],
   "source": [
    "def gaus(r,sigma):\n",
    "    y=0.5/(math.pi*numpy.power(sigma,2))*numpy.exp(-0.5*numpy.power(numpy.divide(r,sigma),2))\n",
    "    rtest=numpy.linspace(0,100,2000)\n",
    "    y1=numpy.multiply(rtest,y)\n",
    "    norm=numpy.trapz(y1,x=rtest)\n",
    "    fr=y/(2*math.pi*norm)\n",
    "    return y"
   ]
  },
  {
   "cell_type": "markdown",
   "metadata": {},
   "source": [
    "Now we can calculate the likelihood ratio for each source/counterpart pair. The calculation of $f(r)$ and LR is done in a loop:"
   ]
  },
  {
   "cell_type": "code",
   "execution_count": 12,
   "metadata": {
    "collapsed": false,
    "scrolled": true
   },
   "outputs": [
    {
     "name": "stderr",
     "output_type": "stream",
     "text": [
      "/Users/Matt1/anaconda2/lib/python2.7/site-packages/ipykernel/__main__.py:6: RuntimeWarning: invalid value encountered in double_scalars\n"
     ]
    }
   ],
   "source": [
    "LR=numpy.zeros([nmatch])\n",
    "matchsep=numpy.power(numpy.power((matchra-mradiora)*3600.0,2)+numpy.power((matchdec-mradiodec)*3600.0,2),0.5)\n",
    "\n",
    "msnr=numpy.divide(mradioflux,mradiofluxerr)\n",
    "\n",
    "#calculate LR for each match pair\n",
    "for i in range(0, nmatch):\n",
    "    magbin=numpy.where(matchmag[i]<nm[1])\n",
    "    qmsmi=qm_nm[magbin[0][0]-1]\n",
    "    sigma0=max(numpy.power(numpy.power(1.0,2)+numpy.power(0.6*fwhm/msnr[i],2),0.5),0.5)\n",
    "    fr=max(gaus(r=matchsep[i],sigma=sigma0),0.000001)\n",
    "    LR[i]=qmsmi*fr\n",
    "rel=numpy.zeros([nmatch])"
   ]
  },
  {
   "cell_type": "markdown",
   "metadata": {},
   "source": [
    "Each radio source might have more than one counterpart. To account for this, we define a reliability $R_{j}$ for each object $j$ being the right counterpart, as done in Sutherland & Saunders (1992):\n",
    "\n",
    "\\begin{equation}\n",
    "R_{j} = \\frac{L_{j}}{\\sum_{i} L_{i} + (1- Q_{0})}\n",
    "\\end{equation} \n",
    "\n",
    "We assume matches with a reliability $R > 0.8$, are robust matches. "
   ]
  },
  {
   "cell_type": "code",
   "execution_count": 13,
   "metadata": {
    "collapsed": false
   },
   "outputs": [
    {
     "name": "stdout",
     "output_type": "stream",
     "text": [
      "Number of reliable sources 1178\n"
     ]
    }
   ],
   "source": [
    "for i in range(0,nmatch):\n",
    "    idmatch=numpy.where(mradioid[i]==mradioid)\n",
    "    LRarray=LR[idmatch]\n",
    "    LRsum=numpy.sum(LRarray)\n",
    "    rel[i]=LR[i]/(LRsum+(1-q0))\n",
    "\n",
    "reliable=numpy.where(rel>0.8)\n",
    "xreliable=numpy.where(rel<0.8)\n",
    "print ('Number of reliable sources '+ numpy.str_(len(reliable[0])))\n",
    "minus=(1.0-rel[reliable])"
   ]
  },
  {
   "cell_type": "markdown",
   "metadata": {},
   "source": [
    "We can also calculate the number of false identifications $N_{false}$ is given by:\n",
    "\n",
    "\\begin{equation}\n",
    "N_{False} = {\\rm \\sum_{Rel >0.8} (1-Rel)}\n",
    "\\end{equation}"
   ]
  },
  {
   "cell_type": "code",
   "execution_count": 14,
   "metadata": {
    "collapsed": false
   },
   "outputs": [
    {
     "name": "stdout",
     "output_type": "stream",
     "text": [
      "Number of False IDs\n",
      "81.3645667877\n"
     ]
    }
   ],
   "source": [
    "minus=(1.0-rel[reliable])\n",
    "minusum=numpy.sum(minus)\n",
    "print ('Number of False IDs')\n",
    "print (minusum)"
   ]
  },
  {
   "cell_type": "markdown",
   "metadata": {},
   "source": [
    "Here we can save our output, first a list containing all the matches and their radio properties. "
   ]
  },
  {
   "cell_type": "code",
   "execution_count": 15,
   "metadata": {
    "collapsed": false
   },
   "outputs": [
    {
     "data": {
      "text/plain": [
       "<function close>"
      ]
     },
     "execution_count": 15,
     "metadata": {},
     "output_type": "execute_result"
    }
   ],
   "source": [
    "filename=\"Likelihoodratio.csv\"\n",
    "file=open(filename,'w')\n",
    "s='#No \\t RA \\t\\t DEC \\t radio_ra \\t radio_dec \\t mag \\t S \\t ErrS \\t sep \\t radioid \\t idno \\t LR \\t rel \\t snr \\n'\n",
    "file.write(s)\n",
    "for i in range(0,nmatch):\n",
    "    s=numpy.str_(i+1)+'\\t'+'%.6f'%matchra[i]+'\\t '+'%.6f'%matchdec[i]+'\\t'+'%.6f'%mradiora[i]+'\\t '+'%.6f'%mradiodec[i]+'\\t'+'%4.6f'%matchmag[i]+'\\t'+'%4.6f'%mradioflux[i]+'\\t'+'%4.6f'%mradiofluxerr[i]+'\\t'+'%.6f'%matchsep[i]+'\\t'+'%i'%mradioid[i]+'\\t'+'%i'%matchid[i]+'\\t\\t'+'%4.4f'%LR[i]+'\\t'+'%.4f'%rel[i]+'\\t'+'%.4f'%msnr[i]+ '\\n'\n",
    "    file.write(s)\n",
    "file.close"
   ]
  },
  {
   "cell_type": "markdown",
   "metadata": {},
   "source": [
    "We can also save lists of all the reliable matches, non-reliable matches and non matches: "
   ]
  },
  {
   "cell_type": "code",
   "execution_count": 16,
   "metadata": {
    "collapsed": false
   },
   "outputs": [
    {
     "data": {
      "text/plain": [
       "<function close>"
      ]
     },
     "execution_count": 16,
     "metadata": {},
     "output_type": "execute_result"
    }
   ],
   "source": [
    "file=open('reliable.reg','w')\n",
    "for i in range(0,len(reliable[0])):\n",
    "    s='fk5; circle('+'%.6f'%mradiora[reliable[0][i]]+','+'%.6f'%mradiodec[reliable[0][i]]+',2.8\")# color=green'+'\\n'\n",
    "    file.write(s)\n",
    "file.close    \n",
    "\n",
    "file=open('nonreliable.reg','w')\n",
    "for i in range(0,len(xreliable[0])):\n",
    "    s='fk5; circle('+'%.6f'%mradiora[xreliable[0][i]]+','+'%.6f'%mradiodec[xreliable[0][i]]+',2.75\")# color=magenta'+'\\n'\n",
    "    file.write(s)\n",
    "file.close  \n",
    "\n",
    "file=open('nomatch.reg','w')\n",
    "for i in range(0,len(nmatchra)):\n",
    "    s='fk5; circle('+'%.6f'%nmatchra[i]+','+'%.6f'%nmatchdec[i]+',2.8\")# color=red'+'\\n'\n",
    "    file.write(s)\n",
    "file.close"
   ]
  },
  {
   "cell_type": "markdown",
   "metadata": {},
   "source": [
    "We can also make some plots! The first plot shows the $K_{s}$-band magnitude distribution of all NIR sources which surround the radio sources within $r_{max} =30$ arcseconds, this is seen as $\\rm total(m)$ (red histogram). The dashed histogram shows the $K_{s}$-band magnitude distibution of excess NIR sources surrounding the radio sources (${\\rm real(m)}$). The expected background counts of NIR objects within the search radius can also be seen.     "
   ]
  },
  {
   "cell_type": "code",
   "execution_count": 28,
   "metadata": {
    "collapsed": false
   },
   "outputs": [
    {
     "data": {
      "image/png": "[encoded data removed]",
      "text/plain": [
       "<matplotlib.figure.Figure at 0x1369f5510>"
      ]
     },
     "metadata": {},
     "output_type": "display_data"
    }
   ],
   "source": [
    "plt.figure(2)\n",
    "plt.semilogy(plotbins,nmp,ls='steps-',color='k',label='Background')\n",
    "plt.semilogy(plotbins,total[0],ls='steps-',color='r',label='Total(m)')\n",
    "plt.semilogy(plotbins,real,ls='steps--',color='k',label='Real(m)')\n",
    "\n",
    "leg=plt.legend(loc='lower right')\n",
    "frame=leg.get_frame()\n",
    "frame.set_edgecolor('1.0')\n",
    "plt.ylim(ymin=0.1,ymax=4000)\n",
    "plt.ylabel('N(counterparts)')\n",
    "plt.xlabel('$K_{s}$ mag')\n",
    "plt.xlim(xmin=14,xmax=19.0);"
   ]
  },
  {
   "cell_type": "markdown",
   "metadata": {},
   "source": [
    "The ratio of ${q(m)}/{n(m)}$ represents the magnitude dependence on the LR. We fix q(m) at bright magnitudes. "
   ]
  },
  {
   "cell_type": "code",
   "execution_count": 29,
   "metadata": {
    "collapsed": false
   },
   "outputs": [
    {
     "data": {
      "image/png": "[encoded data removed]",
      "text/plain": [
       "<matplotlib.figure.Figure at 0x150696b50>"
      ]
     },
     "metadata": {},
     "output_type": "display_data"
    }
   ],
   "source": [
    "plt.figure(3)\n",
    "plt.semilogy(plotbins,qm_nm,ls='steps-',color='k')\n",
    "plt.ylabel('P(m)=q(m)/n(m)')\n",
    "plt.xlabel('$K_{s}$ mag')\n",
    "plt.xlim(xmin=14,xmax=19.0);"
   ]
  },
  {
   "cell_type": "markdown",
   "metadata": {},
   "source": [
    "Here we plot the resulting q(m) distribution:"
   ]
  },
  {
   "cell_type": "code",
   "execution_count": 19,
   "metadata": {
    "collapsed": false
   },
   "outputs": [
    {
     "data": {
      "image/png": "[encoded data removed]",
      "text/plain": [
       "<matplotlib.figure.Figure at 0x14f78d950>"
      ]
     },
     "metadata": {},
     "output_type": "display_data"
    }
   ],
   "source": [
    "plt.figure(4)\n",
    "plt.semilogy(plotbins,qm,ls='steps-',color='k',label='raw')\n",
    "plt.xlim(xmin=10,xmax=21.0)\n",
    "plt.xlabel('K mag')\n",
    "plt.ylabel('q(m)')\n",
    "plt.show()"
   ]
  },
  {
   "cell_type": "markdown",
   "metadata": {},
   "source": [
    "This plot shows the distribution of the counterparts, and print the mean separation between radio source and counterparts in terms of RA and DEC. "
   ]
  },
  {
   "cell_type": "code",
   "execution_count": 20,
   "metadata": {
    "collapsed": false
   },
   "outputs": [
    {
     "name": "stdout",
     "output_type": "stream",
     "text": [
      "Mean RA\n",
      "0.782362380652\n",
      "0.000217322883514\n",
      "4.79659336078e-05\n",
      "Mean Dec\n",
      "0.23677842736\n",
      "6.57717853778e-05\n",
      "2.93170330165e-05\n"
     ]
    },
    {
     "data": {
      "image/png": "[encoded data removed]",
      "text/plain": [
       "<matplotlib.figure.Figure at 0x14fa81ad0>"
      ]
     },
     "metadata": {},
     "output_type": "display_data"
    }
   ],
   "source": [
    "plt.figure(5)\n",
    "plt.plot(3600.0*(matchra[reliable]-mradiora[reliable]),3600.0*(matchdec[reliable]-mradiodec[reliable]),'+')\n",
    "\n",
    "plt.xlabel(r'$\\Delta$ RA (arcsec)')\n",
    "plt.ylabel(r'$\\Delta$ DEC (arcsec)')\n",
    "#plt.savefig('match_positions.pdf',orientation='portrait')\n",
    "\n",
    "print ('Mean RA')\n",
    "print (numpy.mean(3600.0*(matchra[reliable]-mradiora[reliable])))\n",
    "print (numpy.mean(matchra[reliable]-mradiora[reliable]))\n",
    "print (numpy.std(matchra-mradiora)/numpy.power(len(matchra),0.5))\n",
    "\n",
    "print ('Mean Dec')\n",
    "print (numpy.mean(3600.0*(matchdec-mradiodec)[reliable[0]]))\n",
    "print (numpy.mean((matchdec-mradiodec)[reliable]))\n",
    "print (numpy.std(matchdec-mradiodec)/numpy.power(len(matchdec),0.5))"
   ]
  },
  {
   "cell_type": "markdown",
   "metadata": {},
   "source": [
    "Here we show the Reliability as a function of the likelihood ratio. As some radio sources have more than one counterpart it is not a linear relationship.   "
   ]
  },
  {
   "cell_type": "code",
   "execution_count": 30,
   "metadata": {
    "collapsed": false
   },
   "outputs": [
    {
     "data": {
      "image/png": "[encoded data removed]",
      "text/plain": [
       "<matplotlib.figure.Figure at 0x13693a950>"
      ]
     },
     "metadata": {},
     "output_type": "display_data"
    }
   ],
   "source": [
    "plt.figure(6)\n",
    "plt.semilogx(LR,rel,'.',color='k',ms=3)\n",
    "plt.xlim(xmin=0.00001,xmax=1000)\n",
    "plt.ylim(ymin=-0.1,ymax=1.1)\n",
    "plt.xlabel('Likelihood Ratio')\n",
    "plt.ylabel('Reliability');"
   ]
  },
  {
   "cell_type": "markdown",
   "metadata": {},
   "source": [
    "Here we make a histogram of the LR values for all the potential counterparts. "
   ]
  },
  {
   "cell_type": "code",
   "execution_count": 31,
   "metadata": {
    "collapsed": false
   },
   "outputs": [
    {
     "data": {
      "image/png": "[encoded data removed]",
      "text/plain": [
       "<matplotlib.figure.Figure at 0x14f520c90>"
      ]
     },
     "metadata": {},
     "output_type": "display_data"
    }
   ],
   "source": [
    "plt.figure(7)\n",
    "plt.hist(LR,bins=(100),range=(1,1000),log=True,histtype='step',color='k',linewidth=2)\n",
    "plt.plot(xscale='log')\n",
    "plt.xlim(xmin=1.0,xmax=1000)\n",
    "plt.ylim(ymin=0.9,ymax=500)\n",
    "plt.xlabel('Likelihood Ratio')\n",
    "plt.ylabel('N(counterparts)');"
   ]
  },
  {
   "cell_type": "markdown",
   "metadata": {},
   "source": [
    "Here we plot a histogram of the reliability for each counterpart. "
   ]
  },
  {
   "cell_type": "code",
   "execution_count": 32,
   "metadata": {
    "collapsed": false
   },
   "outputs": [
    {
     "data": {
      "image/png": "[encoded data removed]",
      "text/plain": [
       "<matplotlib.figure.Figure at 0x136d2aed0>"
      ]
     },
     "metadata": {},
     "output_type": "display_data"
    }
   ],
   "source": [
    "plt.figure(8)\n",
    "plt.hist(rel,bins=100,log=True,histtype='step',color='k',linewidth=2)\n",
    "plt.xlabel('Reliability')\n",
    "plt.xlim(xmin=-0.1,xmax=1.1)\n",
    "plt.ylabel('N(counterparts)');"
   ]
  },
  {
   "cell_type": "markdown",
   "metadata": {},
   "source": [
    "Here we make histograms of $\\Delta RA$ and $\\Delta DEC$ of the reliable matches. "
   ]
  },
  {
   "cell_type": "code",
   "execution_count": 33,
   "metadata": {
    "collapsed": false
   },
   "outputs": [
    {
     "data": {
      "image/png": "[encoded data removed]",
      "text/plain": [
       "<matplotlib.figure.Figure at 0x143cc4950>"
      ]
     },
     "metadata": {},
     "output_type": "display_data"
    },
    {
     "data": {
      "image/png": "[encoded data removed]",
      "text/plain": [
       "<matplotlib.figure.Figure at 0x143cb0f10>"
      ]
     },
     "metadata": {},
     "output_type": "display_data"
    }
   ],
   "source": [
    "plt.figure(9)\n",
    "plt.hist(3600.0*(matchra-mradiora)[reliable],bins=10)\n",
    "plt.xlabel(r'$\\Delta$ RA')\n",
    "plt.ylabel('Number')\n",
    "plt.figure(10)\n",
    "plt.hist(3600.0*(matchdec-mradiodec)[reliable],bins=10)\n",
    "plt.xlabel(r'$\\Delta$ DEC')\n",
    "plt.ylabel('Number')\n",
    "plt.show;"
   ]
  },
  {
   "cell_type": "code",
   "execution_count": null,
   "metadata": {
    "collapsed": true
   },
   "outputs": [],
   "source": []
  }
 ],
 "metadata": {
  "anaconda-cloud": {},
  "kernelspec": {
   "display_name": "Python [default]",
   "language": "python",
   "name": "python2"
  },
  "language_info": {
   "codemirror_mode": {
    "name": "ipython",
    "version": 2
   },
   "file_extension": ".py",
   "mimetype": "text/x-python",
   "name": "python",
   "nbconvert_exporter": "python",
   "pygments_lexer": "ipython2",
   "version": "2.7.12"
  }
 },
 "nbformat": 4,
 "nbformat_minor": 1
}
